{
  "nbformat": 4,
  "nbformat_minor": 0,
  "metadata": {
    "colab": {
      "name": "github.ipynb",
      "provenance": [],
      "collapsed_sections": []
    },
    "kernelspec": {
      "name": "python3",
      "display_name": "Python 3"
    },
    "accelerator": "GPU"
  },
  "cells": [
    {
      "cell_type": "markdown",
      "metadata": {
        "id": "aQuWDmfm9YOi",
        "colab_type": "text"
      },
      "source": [
        "#Script to get all the download links from a FTP server/Index links"
      ]
    },
    {
      "cell_type": "markdown",
      "metadata": {
        "id": "Uf90U73y9YOj",
        "colab_type": "text"
      },
      "source": [
        "### Mount Google Drive\n",
        "To stream files we need to mount Google Drive."
      ]
    },
    {
      "cell_type": "code",
      "metadata": {
        "colab_type": "code",
        "id": "oWM9l2fvtuvO",
        "colab": {}
      },
      "source": [
        "from google.colab import drive\n",
        "drive.mount('/content/drive')"
      ],
      "execution_count": 0,
      "outputs": []
    },
    {
      "cell_type": "code",
      "execution_count": null,
      "metadata": {},
      "outputs": [],
      "source": [
        "server = ''"
      ]
    },
    {
      "cell_type": "code",
      "execution_count": null,
      "metadata": {},
      "outputs": [],
      "source": [
        "import urllib\n",
        "from bs4 import BeautifulSoup\n",
        "import time\n",
        "\n",
        "start_time = time.time()\n",
        "\n",
        "\n",
        "stack = []\n",
        "queue = []\n",
        "\n",
        "def download(site_url):\n",
        "\n",
        "    html = urllib.request.urlopen(site_url).read()\n",
        "    soup = BeautifulSoup(html,\"html.parser\")\n",
        "\n",
        "    tags = soup('a')\n",
        "    for tag in tags[1:]:\n",
        "        link = tag.get('href', None)\n",
        "        if not link.startswith(site_url):\n",
        "            link = site_url+link\n",
        "        if link.upper().endswith((\".MKV\", \".MP4\", \".WEBM\", \".AVI\", \".MOV\", \".AVCHD\", \".FLV\", \".WMV\")):\n",
        "            stack.append(link)\n",
        "            print(link)\n",
        "        elif link.endswith('/'):\n",
        "            queue.append(link)\n",
        "\n",
        "\n",
        "download(server)\n",
        "for item in queue:\n",
        "    try:\n",
        "        download(item)\n",
        "    except Exception as e:\n",
        "        print(e)\n",
        "\n",
        "print('Downloadable links:', len(stack))\n",
        "print('Root directories found', len(queue))\n",
        "\n",
        "print(\"\\n--- %s seconds ---\" % (time.time() - start_time))"
      ]
    },
    {
      "cell_type": "code",
      "execution_count": null,
      "metadata": {},
      "outputs": [],
      "source": []
    },
    {
      "cell_type": "code",
      "execution_count": null,
      "metadata": {},
      "outputs": [],
      "source": [
        "root_dir = '/content/drive/My Drive/FTP-link-LEECH/'\n",
        "file_name = 'ftp_links.txt'\n",
        "path = root_dir + file_name\n",
        "\n",
        "with open(path, 'a') as f:\n",
        "    for item in stack:\n",
        "        f.write(item + '\\n')\n",
        "    print(\"FILE OUTPUT SUCCESSFUL\")"
      ]
    }
  ]
}